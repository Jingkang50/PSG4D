{
 "cells": [
  {
   "cell_type": "code",
   "execution_count": 41,
   "id": "5243f949",
   "metadata": {},
   "outputs": [],
   "source": [
    "import pycocotools.mask as mask_utils\n",
    "import numpy as np\n",
    "from itertools import groupby\n",
    "import os\n",
    "from pathlib import Path\n",
    "from PIL import Image\n",
    "from collections import defaultdict\n",
    "from tqdm import tqdm\n",
    "import json\n",
    "import pickle\n",
    "\n",
    "import sys\n",
    "sys.path.append(\"/mnt/lustre/jkyang/wxpeng/CVPR23/PVSG_Image\")\n",
    "\n",
    "def load_json(filepath):\n",
    "    with open(filepath, \"r\") as f:\n",
    "        return json.load(f)\n",
    "def load_pickle(filepath):\n",
    "    with open(filepath, \"rb\") as f:\n",
    "        return pickle.load(f)\n",
    "\n",
    "class PVSGAnnotation:\n",
    "    def __init__(self, anno_file):\n",
    "        with open(anno_file, \"r\") as f:\n",
    "            anno = json.load(f)\n",
    "            \n",
    "        self.anno = anno\n",
    "        videos = {}\n",
    "        for video_anno in anno:\n",
    "            videos[video_anno['video_id']] = video_anno\n",
    "        self.videos = videos\n",
    "\n",
    "\n",
    "    def __getitem__(self, vid):\n",
    "        assert vid in self.videos\n",
    "        return self.videos[vid]"
   ]
  },
  {
   "cell_type": "code",
   "execution_count": 168,
   "id": "377c6b92",
   "metadata": {},
   "outputs": [],
   "source": [
    "label_path = \"/mnt/lustre/jkyang/wxpeng/CVPR23/PVSG_Image/work_dirs/test_default_ckpt4_tracking_and_save_qf2/0028_4021064662/quantitive/masks.txt\"\n",
    "gt_masks_root = Path(\"/mnt/lustre/jkyang/wxpeng/CVPR23/PVSG_Image/data/pvsg_demo/train/masks\")\n",
    "vid = \"0028_4021064662\"\n",
    "qf_root = Path(\"/mnt/lustre/jkyang/wxpeng/CVPR23/PVSG_Image/work_dirs/test_default_ckpt4_tracking_and_save_qf2\")\n",
    "gt = PVSGAnnotation(\"/mnt/lustre/jkyang/wxpeng/CVPR23/pvsg_data/pvsg_demo.json\")"
   ]
  },
  {
   "cell_type": "code",
   "execution_count": 169,
   "id": "375bcf7c",
   "metadata": {},
   "outputs": [],
   "source": [
    "# ---------------------------------------------- load pred masks --------------------------------------------------\n",
    "def load_pred_mask_tubes(label_path):\n",
    "    # label_path: mask txt output from unitrack\n",
    "    print(\"Loading pred mask tubes...\", flush=True)\n",
    "    labels = []\n",
    "    results = []\n",
    "    with open(label_path, 'r') as f:\n",
    "        for line in f:\n",
    "            labels.append(line.strip().split())\n",
    "\n",
    "    for label in tqdm(labels):\n",
    "        frame_id, track_id, _, h, w, m = label\n",
    "        rle = {'size':(int(h),int(w)), 'counts':m}\n",
    "        mask = mask_utils.decode(rle)\n",
    "        results.append(dict(fid=frame_id, tid=track_id, mask=mask))\n",
    "    \n",
    "    def key_func(k):\n",
    "        return k['tid']\n",
    "    \n",
    "    # sort data by 'tid' key.\n",
    "    results = sorted(results, key=key_func)\n",
    "    # group by tid\n",
    "    masks_grp_by_tid = {}\n",
    "    for key, value in groupby(results, key_func):\n",
    "        masks_grp_by_tid[key] = list(value)\n",
    "    return masks_grp_by_tid\n",
    "\n",
    "# ------------------------------------------------- load gt masks ----------------------------------------------------\n",
    "def read_pan_mask_next_frame(mask_tubes, pan_mask, cur_len, h, w):\n",
    "    cur_ids = list(mask_tubes.keys())\n",
    "    new_ids = list(np.unique(pan_mask))\n",
    "    all_ids = list(set(cur_ids + new_ids))\n",
    "    # for no mask frame -- all zeros\n",
    "    dummy_mask = np.zeros((h,w))\n",
    "\n",
    "    for instance_id in all_ids:\n",
    "        if instance_id == 0:\n",
    "            continue\n",
    "        if instance_id not in new_ids: # this frame has no this object\n",
    "            mask_tubes[instance_id].append(dummy_mask)\n",
    "            continue\n",
    "        if instance_id not in cur_ids: # this object first show up\n",
    "            mask_tubes[instance_id].extend([dummy_mask for i in range(cur_len)])\n",
    "            \n",
    "        mask_tubes[instance_id].append((pan_mask == instance_id).astype(int))\n",
    "    return mask_tubes\n",
    "\n",
    "def load_gt_mask_tubes(gt_mask_path):\n",
    "    print(\"Loading gt mask tubes...\", flush=True)\n",
    "    gt_pan_mask_paths = [str(x) for x in sorted(gt_mask_path.rglob(\"*.png\"))]\n",
    "    \n",
    "    mask_tubes = defaultdict(list)\n",
    "    cur_len = 0\n",
    "    for mask_path in tqdm(gt_pan_mask_paths):\n",
    "        pan_mask = np.array(Image.open(mask_path))\n",
    "        h, w = pan_mask.shape\n",
    "        mask_tubes = read_pan_mask_next_frame(mask_tubes, pan_mask, cur_len, h, w)\n",
    "        cur_len += 1\n",
    "    return mask_tubes\n",
    "\n",
    "\n",
    "def check_has_none(mask_tube):\n",
    "    return any(ele is None for ele in mask_tube)\n",
    "\n",
    "# ---------------------------------------- match gt mask tube and pred mask tube -------------------------------------------------\n",
    "def binaryMaskIOU(mask1, mask2):   \n",
    "    mask1_area = np.count_nonzero(mask1 == 1)\n",
    "    mask2_area = np.count_nonzero(mask2 == 1)\n",
    "    intersection = np.count_nonzero(np.logical_and(mask1==1, mask2==1))\n",
    "    iou = intersection/(mask1_area+mask2_area-intersection)\n",
    "    return iou\n",
    "\n",
    "def match_gt_pred_mask_tubes(pred_mask_tubes, gt_mask_tubes):\n",
    "    print(\"Matching pred mask tubes with gt mask tubes...\", flush=True)\n",
    "    # init iou score for all pred mask tube\n",
    "    assigned_labels = {tid: -1 for tid in pred_mask_tubes.keys()}\n",
    "    iou_scores = {tid: -1 for tid in pred_mask_tubes.keys()}\n",
    "\n",
    "    iou_thres = 0.85\n",
    "    for tid, pred_mask_tube in tqdm(pred_mask_tubes.items()): # iterare all pred mask tubes\n",
    "        gt_id = -1 # pred mask tube只会对应一个gt tube，但是可能对应的是part of it\n",
    "        iou_score = -np.inf\n",
    "        # compute viou with all gt mask tubes\n",
    "        for gt_instance_id, gt_mask_tube in gt_mask_tubes.items():\n",
    "            viou = 0.0\n",
    "            count = 0.0\n",
    "            for pred_mask_dict in pred_mask_tube: # iterate every frame in a pred mask tube\n",
    "                fid = int(pred_mask_dict['fid']) - 1 # our gt starts from 0, but pred starts from 1, so need - 1\n",
    "                pred_mask = pred_mask_dict['mask']\n",
    "                gt_mask = gt_mask_tube[fid]\n",
    "                iou = binaryMaskIOU(pred_mask, gt_mask)\n",
    "                viou += iou\n",
    "                count += 1\n",
    "            viou = viou / count\n",
    "            if viou >= iou_thres and viou > iou_score:\n",
    "                gt_id = gt_instance_id\n",
    "                iou_score = viou\n",
    "        if gt_id != -1: # has some > 0.85\n",
    "            iou_scores[tid] = iou_score # remember this highest iou score for this pred mask tube\n",
    "            assigned_labels[tid] = gt_id # remember which part of gt is assigned to a pred(tid) - 这条gt_tube的dummy_id的部分被assign给当前pred mask tube\n",
    "\n",
    "    return assigned_labels, iou_scores\n",
    "        \n",
    "       \n",
    "# ----------------------- assign labels to qf tube pair (match qf and gt relation) ----------------------------------------------\n",
    "# get filtered qf_tube out\n",
    "def filter_qf_tubes(assigned_labels, qf_tube_obj_list):\n",
    "    # take out those have assigned labels in gt\n",
    "    qf_tubes_filtered = []\n",
    "    for (tid, gt_id), qf_tube_obj in zip(assigned_labels.items(), qf_tube_obj_list):\n",
    "        if gt_id == -1:\n",
    "            continue\n",
    "        qf_tubes_filtered.append(dict(tid=int(tid),\n",
    "                                      gt_id=gt_id,\n",
    "                                      qf_tube=qf_tube_obj.qf_tube))\n",
    "    return qf_tubes_filtered\n",
    "\n",
    "def pair_qf_tubes(qf_tubes_filtered):\n",
    "    # pair to get true/false tube to indicate which part should have a label (both have qf tubes)\n",
    "    # avoid pairing with itself (same gt_id)\n",
    "    pairs = []\n",
    "    for s in qf_tubes_filtered:\n",
    "        for o in qf_tubes_filtered:\n",
    "            if (s['tid'] == o['tid']) or (s['gt_id'] == o['gt_id']):\n",
    "                continue\n",
    "            s_indicator = np.array([True if ele is not None else False for ele in s['qf_tube']])\n",
    "            o_indicator = np.array([True if ele is not None else False for ele in o['qf_tube']])\n",
    "            pair_indicator = s_indicator * o_indicator\n",
    "            # also get tubes here\n",
    "            s_qf_tube = [x['query_feat'] if x is not None else None for x in s['qf_tube']]\n",
    "            o_qf_tube = [x['query_feat'] if x is not None else None for x in o['qf_tube']]\n",
    "            so_qf_tubes = [s_qf_tube, o_qf_tube]\n",
    "            pairs.append(dict(so_tid=[s['tid'], o['tid']],\n",
    "                              so_gt_id=[s['gt_id'], o['gt_id']],\n",
    "                              so_qf_tubes=so_qf_tubes,\n",
    "                              indicator=pair_indicator))\n",
    "    return pairs\n",
    "    \n",
    "\n",
    "def assign_relation_label(gt_relations, pairs):\n",
    "    # assigne label (label list) to every qf_tube pair in pairs\n",
    "    print(\"Assigning labels to every qf tube pair...\", flush=True)\n",
    "    if len(pairs) == 0:\n",
    "        return [], []\n",
    "    \n",
    "    labels = []\n",
    "    pairs_filtered = []\n",
    "    num_frames = len(pairs[0]['indicator'])\n",
    "    for pair in tqdm(pairs):\n",
    "        label_this_pair = [[] for i in range(num_frames)]\n",
    "        s_gt_id, o_gt_id = pair['so_gt_id']\n",
    "        indicator = pair['indicator']\n",
    "        has_rel = False\n",
    "        for gt_relation in gt_relations:\n",
    "            if s_gt_id == gt_relation[0] and o_gt_id == gt_relation[1]:\n",
    "                predicate = gt_relation[2]\n",
    "                intervals = gt_relation[3]\n",
    "                for interval in intervals: # one might have sevel time intervals for a relation\n",
    "                    # remember our interval is not close on the right side but \"range()\" does! need + 1\n",
    "                    start, end = interval[0], interval[1]\n",
    "                    for i in range(start, end + 1):\n",
    "                        if indicator[i]: # if also has a pair tube here\n",
    "                            has_rel = True\n",
    "                            label_this_pair[i].append(predicate)\n",
    "        if has_rel:\n",
    "            labels.append(dict(so_tid=pair['so_tid'],\n",
    "                               so_gt_id=pair['so_gt_id'],\n",
    "                               label=label_this_pair))\n",
    "            pairs_filtered.append(pair['so_qf_tubes'])\n",
    "    return pairs_filtered, labels\n",
    "    \n",
    "def get_labels_single_video(assigned_labels, qf_tube_obj_list, gt_relations):\n",
    "    qf_tubes_filtered = filter_qf_tubes(assigned_labels, qf_tube_obj_list)\n",
    "    pairs = pair_qf_tubes(qf_tubes_filtered)\n",
    "    pairs_filtered, labels = assign_relation_label(gt_relations, pairs)\n",
    "    return pairs_filtered, labels\n",
    "\n",
    "# ---------------------------------------------- main ---------------------------------------------------------------------\n",
    "save_root = Path(\"/mnt/lustre/jkyang/wxpeng/CVPR23/PVSG_Image/work_dirs/test_default_ckpt4_tracking_and_save_qf2\")\n",
    "gt_masks_root = Path(\"/mnt/lustre/jkyang/wxpeng/CVPR23/PVSG_Image/data/pvsg_demo/train/masks\") \n",
    "gt = PVSGAnnotation(\"/mnt/lustre/jkyang/wxpeng/CVPR23/pvsg_data/pvsg_demo.json\")\n",
    "def postprocess_resutls_assign_labels_to_qf_tubes_single_video(vid):\n",
    "    pred_mask_path = save_root / vid / \"quantitive/masks.txt\"\n",
    "    pred_mask_tubes = load_pred_mask_tubes(pred_mask_path)\n",
    "    \n",
    "    gt_mask_path = gt_masks_root / vid\n",
    "    gt_mask_tubes = get_gt_mask_tubes_one_video(gt_mask_path)\n",
    "    \n",
    "    assigned_labels, iou_scores = match_gt_pred_mask_tubes(pred_mask_tubes, gt_mask_tubes)\n",
    "    \n",
    "    qf_tube_obj_list = load_pickle(save_root / vid / \"query_feats.pickle\")\n",
    "    gt_relations = gt[vid]['relations']\n",
    "    pairs_filtered, labels = get_labels_single_video(assigned_labels, qf_tube_obj_list, gt_relations)\n",
    "    return pairs_filtered, labels"
   ]
  },
  {
   "cell_type": "code",
   "execution_count": 170,
   "id": "8a4d4db1",
   "metadata": {},
   "outputs": [
    {
     "name": "stdout",
     "output_type": "stream",
     "text": [
      "Loading pred mask tubes...\n"
     ]
    },
    {
     "name": "stderr",
     "output_type": "stream",
     "text": [
      "100%|███████████████████████████████████████| 381/381 [00:00<00:00, 2343.93it/s]\n"
     ]
    }
   ],
   "source": [
    "pred_mask_path = save_root / vid / \"quantitive/masks.txt\"\n",
    "pred_mask_tubes = load_pred_mask_tubes(pred_mask_path)"
   ]
  },
  {
   "cell_type": "code",
   "execution_count": 171,
   "id": "60260b63",
   "metadata": {},
   "outputs": [
    {
     "name": "stdout",
     "output_type": "stream",
     "text": [
      "Loading gt mask tubes...\n"
     ]
    },
    {
     "name": "stderr",
     "output_type": "stream",
     "text": [
      "100%|███████████████████████████████████████████| 95/95 [00:01<00:00, 83.78it/s]\n"
     ]
    }
   ],
   "source": [
    "gt_mask_path = gt_masks_root / vid\n",
    "gt_mask_tubes = load_gt_mask_tubes(gt_mask_path)"
   ]
  },
  {
   "cell_type": "code",
   "execution_count": 172,
   "id": "2c9165a6",
   "metadata": {},
   "outputs": [
    {
     "name": "stdout",
     "output_type": "stream",
     "text": [
      "Matching pred mask tubes with gt mask tubes...\n"
     ]
    },
    {
     "name": "stderr",
     "output_type": "stream",
     "text": [
      "100%|█████████████████████████████████████████████| 8/8 [00:01<00:00,  4.26it/s]\n"
     ]
    }
   ],
   "source": [
    "assigned_labels, iou_scores = match_gt_pred_mask_tubes(pred_mask_tubes, gt_mask_tubes)"
   ]
  },
  {
   "cell_type": "code",
   "execution_count": 179,
   "id": "3e0a3c90",
   "metadata": {},
   "outputs": [
    {
     "name": "stdout",
     "output_type": "stream",
     "text": [
      "Assigning labels to every qf tube pair...\n"
     ]
    },
    {
     "name": "stderr",
     "output_type": "stream",
     "text": [
      "100%|█████████████████████████████████████████| 10/10 [00:00<00:00, 5888.40it/s]\n"
     ]
    }
   ],
   "source": [
    "qf_tube_obj_list = load_pickle(qf_root / vid / \"query_feats.pickle\")\n",
    "gt_relations = gt[vid]['relations']\n",
    "qf_tubes_filtered = filter_qf_tubes(assigned_labels, qf_tube_obj_list)\n",
    "pairs = pair_qf_tubes(qf_tubes_filtered)\n",
    "pairs_filtered, labels = assign_relation_label(gt_relations, pairs)"
   ]
  },
  {
   "cell_type": "code",
   "execution_count": 73,
   "id": "f9128cda",
   "metadata": {},
   "outputs": [
    {
     "name": "stdout",
     "output_type": "stream",
     "text": [
      "Loading pred mask tubes...\n"
     ]
    },
    {
     "name": "stderr",
     "output_type": "stream",
     "text": [
      "100%|███████████████████████████████████████| 381/381 [00:00<00:00, 2438.36it/s]"
     ]
    },
    {
     "name": "stdout",
     "output_type": "stream",
     "text": [
      "Loading gt mask tubes...\n"
     ]
    },
    {
     "name": "stderr",
     "output_type": "stream",
     "text": [
      "\n",
      "100%|███████████████████████████████████████████| 95/95 [00:01<00:00, 92.68it/s]"
     ]
    },
    {
     "name": "stdout",
     "output_type": "stream",
     "text": [
      "Matching pred mask tubes with gt mask tubes...\n"
     ]
    },
    {
     "name": "stderr",
     "output_type": "stream",
     "text": [
      "\n",
      "100%|█████████████████████████████████████████████| 8/8 [00:01<00:00,  4.21it/s]"
     ]
    },
    {
     "name": "stdout",
     "output_type": "stream",
     "text": [
      "Assigning labels to every qf tube pair...\n"
     ]
    },
    {
     "name": "stderr",
     "output_type": "stream",
     "text": [
      "\n",
      "100%|████████████████████████████████████████| 10/10 [00:00<00:00, 10849.21it/s]\n"
     ]
    }
   ],
   "source": [
    "pairs_filtered, labels = postprocess_resutls_assign_labels_to_qf_tubes_single_video(vid)"
   ]
  },
  {
   "cell_type": "code",
   "execution_count": null,
   "id": "81bf7b9b",
   "metadata": {},
   "outputs": [],
   "source": []
  },
  {
   "cell_type": "markdown",
   "id": "79e1652f",
   "metadata": {},
   "source": [
    "### Datasets"
   ]
  },
  {
   "cell_type": "code",
   "execution_count": 198,
   "id": "0916cd50",
   "metadata": {},
   "outputs": [],
   "source": [
    "import os\n",
    "import copy\n",
    "from pathlib import Path\n",
    "from click import utils\n",
    "\n",
    "from mmdet.datasets.builder import DATASETS\n",
    "\n",
    "\n",
    "class QueryFeaturePairDataset:\n",
    "    def __init__(self,\n",
    "                 data_root=\"/mnt/lustre/jkyang/wxpeng/CVPR23/PVSG_Image/data/pvsg_demo\",\n",
    "                 split=\"train\",\n",
    "                 mode=\"random\", # if a whole video in a batch\n",
    "                 results_root=\"/mnt/lustre/jkyang/wxpeng/CVPR23/PVSG_Image/work_dirs/test_default_ckpt4_tracking_and_save_qf2\",\n",
    "                 anno_file_path=\"/mnt/lustre/jkyang/wxpeng/CVPR23/pvsg_data/pvsg_demo.json\"):\n",
    "        self.data_root = Path(data_root)\n",
    "        self.split = split\n",
    "        self.mode = mode\n",
    "        self.gt_mask_root = self.data_root / split / \"masks\"\n",
    "        self.results_root = Path(results_root) # results from train or test (different process)\n",
    "        self.gt = PVSGAnnotation(anno_file_path)\n",
    "        self.vids = os.listdir(self.gt_mask_root)\n",
    "\n",
    "        self.data = []\n",
    "        self.labels = []\n",
    "        if split == \"train\":\n",
    "            for vid in self.vids:\n",
    "                print(\"Processing video {}\".format(vid), flush=True)\n",
    "                if self.gt[vid]['relations'] is None:\n",
    "                    continue\n",
    "                if vid == \"1007_6631583821\" or vid == \"0046_11919433184\": # this vid relation is not ready yet\n",
    "                    continue\n",
    "                pairs_filtered_this_video, labels_this_video = self.assign_labels_to_qf_tubes_single_video(vid)\n",
    "                if len(labels_this_video) == 0:\n",
    "                    continue\n",
    "                if mode == \"random\": # one data is a pair in one frame\n",
    "                    for tube_pair, tube_label in zip(pairs_filtered_this_video, labels_this_video):\n",
    "                        for frame_s, frame_o, frame_label in zip(tube_pair[0], tube_pair[1], tube_label['label']):\n",
    "                            if len(frame_label) == 0:\n",
    "                                continue\n",
    "                            self.data.append([frame_s, frame_o])\n",
    "                            self.labels.append(frame_label)\n",
    "                else: # one data is a pair tube in one whole video\n",
    "                    for tube_pair, tube_label in zip(pairs_filtered_this_video, labels_this_video):\n",
    "                        self.data.append(tube_pair)\n",
    "                        self.labels.append(tube_label['label'])\n",
    "        else:\n",
    "            pass # TODO\n",
    "                \n",
    "\n",
    "\n",
    "\n",
    "\n",
    "    \n",
    "    def assign_labels_to_qf_tubes_single_video(self, vid):\n",
    "        pred_mask_path = self.results_root / vid / \"quantitive/masks.txt\"\n",
    "        pred_mask_tubes = load_pred_mask_tubes(pred_mask_path)\n",
    "        gt_mask_path = self.gt_mask_root / vid\n",
    "        gt_mask_tubes = load_gt_mask_tubes(gt_mask_path)\n",
    "        assigned_labels, iou_scores = match_gt_pred_mask_tubes(pred_mask_tubes, gt_mask_tubes)\n",
    "        qf_tube_obj_list = load_pickle(self.results_root / vid / \"query_feats.pickle\")\n",
    "        gt_relations = self.gt[vid]['relations']\n",
    "        pairs_filtered, labels = get_labels_single_video(assigned_labels, qf_tube_obj_list, gt_relations)\n",
    "        return pairs_filtered, labels\n",
    "\n",
    "        \n",
    "    def prepare_train_img(self, idx):\n",
    "        return {'data': self.data[idx],\n",
    "                'label': self.labels[idx]}\n",
    "\n",
    "    def __getitem__(self, idx):\n",
    "        if self.split == \"train\":\n",
    "            return self.prepare_train_img(idx)\n",
    "    def __len__(self):\n",
    "        return len(self.data)\n",
    "\n",
    "\n"
   ]
  },
  {
   "cell_type": "code",
   "execution_count": 199,
   "id": "3a8dc93b",
   "metadata": {},
   "outputs": [
    {
     "name": "stdout",
     "output_type": "stream",
     "text": [
      "Processing video 1100_9117425466\n",
      "Loading pred mask tubes...\n"
     ]
    },
    {
     "name": "stderr",
     "output_type": "stream",
     "text": [
      "100%|███████████████████████████████████████| 447/447 [00:00<00:00, 3359.62it/s]"
     ]
    },
    {
     "name": "stdout",
     "output_type": "stream",
     "text": [
      "Loading gt mask tubes...\n"
     ]
    },
    {
     "name": "stderr",
     "output_type": "stream",
     "text": [
      "\n",
      "100%|████████████████████████████████████████| 116/116 [00:00<00:00, 141.52it/s]"
     ]
    },
    {
     "name": "stdout",
     "output_type": "stream",
     "text": [
      "Matching pred mask tubes with gt mask tubes...\n"
     ]
    },
    {
     "name": "stderr",
     "output_type": "stream",
     "text": [
      "\n",
      "100%|███████████████████████████████████████████| 12/12 [00:01<00:00,  7.44it/s]"
     ]
    },
    {
     "name": "stdout",
     "output_type": "stream",
     "text": [
      "Assigning labels to every qf tube pair...\n"
     ]
    },
    {
     "name": "stderr",
     "output_type": "stream",
     "text": [
      "\n",
      "100%|████████████████████████████████████████| 18/18 [00:00<00:00, 20627.72it/s]"
     ]
    },
    {
     "name": "stdout",
     "output_type": "stream",
     "text": [
      "Processing video 0057_7001078933\n",
      "Loading pred mask tubes...\n"
     ]
    },
    {
     "name": "stderr",
     "output_type": "stream",
     "text": [
      "\n",
      "100%|███████████████████████████████████████| 401/401 [00:00<00:00, 3635.25it/s]"
     ]
    },
    {
     "name": "stdout",
     "output_type": "stream",
     "text": [
      "Loading gt mask tubes...\n"
     ]
    },
    {
     "name": "stderr",
     "output_type": "stream",
     "text": [
      "\n",
      "100%|████████████████████████████████████████| 106/106 [00:00<00:00, 111.10it/s]"
     ]
    },
    {
     "name": "stdout",
     "output_type": "stream",
     "text": [
      "Matching pred mask tubes with gt mask tubes...\n"
     ]
    },
    {
     "name": "stderr",
     "output_type": "stream",
     "text": [
      "\n",
      "100%|███████████████████████████████████████████| 17/17 [00:02<00:00,  7.23it/s]"
     ]
    },
    {
     "name": "stdout",
     "output_type": "stream",
     "text": [
      "Assigning labels to every qf tube pair...\n"
     ]
    },
    {
     "name": "stderr",
     "output_type": "stream",
     "text": [
      "\n",
      "100%|████████████████████████████████████████| 70/70 [00:00<00:00, 34782.76it/s]"
     ]
    },
    {
     "name": "stdout",
     "output_type": "stream",
     "text": [
      "Processing video 0028_4021064662\n",
      "Loading pred mask tubes...\n"
     ]
    },
    {
     "name": "stderr",
     "output_type": "stream",
     "text": [
      "\n",
      "100%|███████████████████████████████████████| 381/381 [00:00<00:00, 2822.48it/s]"
     ]
    },
    {
     "name": "stdout",
     "output_type": "stream",
     "text": [
      "Loading gt mask tubes...\n"
     ]
    },
    {
     "name": "stderr",
     "output_type": "stream",
     "text": [
      "\n",
      "100%|██████████████████████████████████████████| 95/95 [00:00<00:00, 111.31it/s]"
     ]
    },
    {
     "name": "stdout",
     "output_type": "stream",
     "text": [
      "Matching pred mask tubes with gt mask tubes...\n"
     ]
    },
    {
     "name": "stderr",
     "output_type": "stream",
     "text": [
      "\n",
      "100%|█████████████████████████████████████████████| 8/8 [00:01<00:00,  4.19it/s]"
     ]
    },
    {
     "name": "stdout",
     "output_type": "stream",
     "text": [
      "Assigning labels to every qf tube pair...\n"
     ]
    },
    {
     "name": "stderr",
     "output_type": "stream",
     "text": [
      "\n",
      "100%|████████████████████████████████████████| 10/10 [00:00<00:00, 11683.30it/s]"
     ]
    },
    {
     "name": "stdout",
     "output_type": "stream",
     "text": [
      "Processing video 1007_6631583821\n",
      "Processing video 1006_4580824633\n",
      "Loading pred mask tubes...\n"
     ]
    },
    {
     "name": "stderr",
     "output_type": "stream",
     "text": [
      "\n",
      "100%|███████████████████████████████████████| 707/707 [00:00<00:00, 2921.55it/s]"
     ]
    },
    {
     "name": "stdout",
     "output_type": "stream",
     "text": [
      "Loading gt mask tubes...\n"
     ]
    },
    {
     "name": "stderr",
     "output_type": "stream",
     "text": [
      "\n",
      "100%|█████████████████████████████████████████| 203/203 [00:02<00:00, 99.70it/s]"
     ]
    },
    {
     "name": "stdout",
     "output_type": "stream",
     "text": [
      "Matching pred mask tubes with gt mask tubes...\n"
     ]
    },
    {
     "name": "stderr",
     "output_type": "stream",
     "text": [
      "\n",
      "100%|███████████████████████████████████████████| 14/14 [00:02<00:00,  5.48it/s]"
     ]
    },
    {
     "name": "stdout",
     "output_type": "stream",
     "text": [
      "Assigning labels to every qf tube pair...\n"
     ]
    },
    {
     "name": "stderr",
     "output_type": "stream",
     "text": [
      "\n",
      "100%|████████████████████████████████████████| 26/26 [00:00<00:00, 15684.15it/s]"
     ]
    },
    {
     "name": "stdout",
     "output_type": "stream",
     "text": [
      "Processing video 0010_8610561401\n",
      "Loading pred mask tubes...\n"
     ]
    },
    {
     "name": "stderr",
     "output_type": "stream",
     "text": [
      "\n",
      "100%|███████████████████████████████████████| 725/725 [00:00<00:00, 3482.19it/s]"
     ]
    },
    {
     "name": "stdout",
     "output_type": "stream",
     "text": [
      "Loading gt mask tubes...\n"
     ]
    },
    {
     "name": "stderr",
     "output_type": "stream",
     "text": [
      "\n",
      "100%|████████████████████████████████████████| 180/180 [00:01<00:00, 129.99it/s]"
     ]
    },
    {
     "name": "stdout",
     "output_type": "stream",
     "text": [
      "Matching pred mask tubes with gt mask tubes...\n"
     ]
    },
    {
     "name": "stderr",
     "output_type": "stream",
     "text": [
      "\n",
      "100%|█████████████████████████████████████████████| 6/6 [00:02<00:00,  2.78it/s]"
     ]
    },
    {
     "name": "stdout",
     "output_type": "stream",
     "text": [
      "Assigning labels to every qf tube pair...\n"
     ]
    },
    {
     "name": "stderr",
     "output_type": "stream",
     "text": [
      "\n",
      "100%|████████████████████████████████████████| 12/12 [00:00<00:00, 12381.71it/s]"
     ]
    },
    {
     "name": "stdout",
     "output_type": "stream",
     "text": [
      "Processing video 1012_4024008346\n",
      "Loading pred mask tubes...\n"
     ]
    },
    {
     "name": "stderr",
     "output_type": "stream",
     "text": [
      "\n",
      "100%|███████████████████████████████████████| 444/444 [00:00<00:00, 3694.23it/s]"
     ]
    },
    {
     "name": "stdout",
     "output_type": "stream",
     "text": [
      "Loading gt mask tubes...\n"
     ]
    },
    {
     "name": "stderr",
     "output_type": "stream",
     "text": [
      "\n",
      "100%|██████████████████████████████████████████| 98/98 [00:00<00:00, 121.54it/s]"
     ]
    },
    {
     "name": "stdout",
     "output_type": "stream",
     "text": [
      "Matching pred mask tubes with gt mask tubes...\n"
     ]
    },
    {
     "name": "stderr",
     "output_type": "stream",
     "text": [
      "\n",
      "100%|█████████████████████████████████████████████| 9/9 [00:01<00:00,  5.62it/s]\n"
     ]
    },
    {
     "name": "stdout",
     "output_type": "stream",
     "text": [
      "Assigning labels to every qf tube pair...\n"
     ]
    },
    {
     "name": "stderr",
     "output_type": "stream",
     "text": [
      "100%|████████████████████████████████████████| 28/28 [00:00<00:00, 46200.04it/s]"
     ]
    },
    {
     "name": "stdout",
     "output_type": "stream",
     "text": [
      "Processing video 1000_6828150903\n",
      "Loading pred mask tubes...\n"
     ]
    },
    {
     "name": "stderr",
     "output_type": "stream",
     "text": [
      "\n",
      "100%|█████████████████████████████████████| 1199/1199 [00:00<00:00, 3733.58it/s]"
     ]
    },
    {
     "name": "stdout",
     "output_type": "stream",
     "text": [
      "Loading gt mask tubes...\n"
     ]
    },
    {
     "name": "stderr",
     "output_type": "stream",
     "text": [
      "\n",
      "100%|████████████████████████████████████████| 340/340 [00:03<00:00, 108.33it/s]"
     ]
    },
    {
     "name": "stdout",
     "output_type": "stream",
     "text": [
      "Matching pred mask tubes with gt mask tubes...\n"
     ]
    },
    {
     "name": "stderr",
     "output_type": "stream",
     "text": [
      "\n",
      "100%|███████████████████████████████████████████| 13/13 [00:04<00:00,  2.91it/s]"
     ]
    },
    {
     "name": "stdout",
     "output_type": "stream",
     "text": [
      "Assigning labels to every qf tube pair...\n"
     ]
    },
    {
     "name": "stderr",
     "output_type": "stream",
     "text": [
      "\n",
      "100%|████████████████████████████████████████| 36/36 [00:00<00:00, 21857.98it/s]"
     ]
    },
    {
     "name": "stdout",
     "output_type": "stream",
     "text": [
      "Processing video 1124_9861436503\n",
      "Loading pred mask tubes...\n"
     ]
    },
    {
     "name": "stderr",
     "output_type": "stream",
     "text": [
      "\n",
      "100%|█████████████████████████████████████| 1878/1878 [00:00<00:00, 3561.17it/s]"
     ]
    },
    {
     "name": "stdout",
     "output_type": "stream",
     "text": [
      "Loading gt mask tubes...\n"
     ]
    },
    {
     "name": "stderr",
     "output_type": "stream",
     "text": [
      "\n",
      "100%|█████████████████████████████████████████| 323/323 [00:03<00:00, 89.69it/s]"
     ]
    },
    {
     "name": "stdout",
     "output_type": "stream",
     "text": [
      "Matching pred mask tubes with gt mask tubes...\n"
     ]
    },
    {
     "name": "stderr",
     "output_type": "stream",
     "text": [
      "\n",
      "100%|███████████████████████████████████████████| 14/14 [00:10<00:00,  1.28it/s]"
     ]
    },
    {
     "name": "stdout",
     "output_type": "stream",
     "text": [
      "Assigning labels to every qf tube pair...\n"
     ]
    },
    {
     "name": "stderr",
     "output_type": "stream",
     "text": [
      "\n",
      "100%|████████████████████████████████████████| 30/30 [00:00<00:00, 20777.60it/s]"
     ]
    },
    {
     "name": "stdout",
     "output_type": "stream",
     "text": [
      "Processing video 1015_4698622422\n",
      "Loading pred mask tubes...\n"
     ]
    },
    {
     "name": "stderr",
     "output_type": "stream",
     "text": [
      "\n",
      "100%|███████████████████████████████████████| 829/829 [00:00<00:00, 2540.56it/s]"
     ]
    },
    {
     "name": "stdout",
     "output_type": "stream",
     "text": [
      "Loading gt mask tubes...\n"
     ]
    },
    {
     "name": "stderr",
     "output_type": "stream",
     "text": [
      "\n",
      "100%|█████████████████████████████████████████| 209/209 [00:02<00:00, 95.31it/s]"
     ]
    },
    {
     "name": "stdout",
     "output_type": "stream",
     "text": [
      "Matching pred mask tubes with gt mask tubes...\n"
     ]
    },
    {
     "name": "stderr",
     "output_type": "stream",
     "text": [
      "\n",
      "100%|███████████████████████████████████████████| 47/47 [00:04<00:00,  9.51it/s]"
     ]
    },
    {
     "name": "stdout",
     "output_type": "stream",
     "text": [
      "Assigning labels to every qf tube pair...\n"
     ]
    },
    {
     "name": "stderr",
     "output_type": "stream",
     "text": [
      "\n",
      "100%|████████████████████████████████████████| 68/68 [00:00<00:00, 22930.75it/s]"
     ]
    },
    {
     "name": "stdout",
     "output_type": "stream",
     "text": [
      "Processing video 0046_11919433184\n",
      "Processing video 1001_7007447516\n",
      "Loading pred mask tubes...\n"
     ]
    },
    {
     "name": "stderr",
     "output_type": "stream",
     "text": [
      "\n",
      "100%|█████████████████████████████████████| 2504/2504 [00:00<00:00, 2833.46it/s]"
     ]
    },
    {
     "name": "stdout",
     "output_type": "stream",
     "text": [
      "Loading gt mask tubes...\n"
     ]
    },
    {
     "name": "stderr",
     "output_type": "stream",
     "text": [
      "\n",
      "100%|█████████████████████████████████████████| 418/418 [00:06<00:00, 62.68it/s]"
     ]
    },
    {
     "name": "stdout",
     "output_type": "stream",
     "text": [
      "Matching pred mask tubes with gt mask tubes...\n"
     ]
    },
    {
     "name": "stderr",
     "output_type": "stream",
     "text": [
      "\n",
      "100%|███████████████████████████████████████████| 48/48 [00:25<00:00,  1.90it/s]\n"
     ]
    },
    {
     "name": "stdout",
     "output_type": "stream",
     "text": [
      "Assigning labels to every qf tube pair...\n"
     ]
    },
    {
     "name": "stderr",
     "output_type": "stream",
     "text": [
      "100%|████████████████████████████████████████| 86/86 [00:00<00:00, 10329.91it/s]"
     ]
    },
    {
     "name": "stdout",
     "output_type": "stream",
     "text": [
      "Processing video 1002_5280626374\n",
      "Loading pred mask tubes...\n"
     ]
    },
    {
     "name": "stderr",
     "output_type": "stream",
     "text": [
      "\n",
      "100%|███████████████████████████████████████| 909/909 [00:00<00:00, 2310.84it/s]"
     ]
    },
    {
     "name": "stdout",
     "output_type": "stream",
     "text": [
      "Loading gt mask tubes...\n"
     ]
    },
    {
     "name": "stderr",
     "output_type": "stream",
     "text": [
      "\n",
      "100%|█████████████████████████████████████████| 176/176 [00:02<00:00, 61.65it/s]"
     ]
    },
    {
     "name": "stdout",
     "output_type": "stream",
     "text": [
      "Matching pred mask tubes with gt mask tubes...\n"
     ]
    },
    {
     "name": "stderr",
     "output_type": "stream",
     "text": [
      "\n",
      "100%|███████████████████████████████████████████| 16/16 [00:05<00:00,  2.94it/s]"
     ]
    },
    {
     "name": "stdout",
     "output_type": "stream",
     "text": [
      "Assigning labels to every qf tube pair...\n"
     ]
    },
    {
     "name": "stderr",
     "output_type": "stream",
     "text": [
      "\n",
      "100%|████████████████████████████████████████| 20/20 [00:00<00:00, 27369.03it/s]"
     ]
    },
    {
     "name": "stdout",
     "output_type": "stream",
     "text": [
      "Processing video 1021_4278168115\n",
      "Loading pred mask tubes...\n"
     ]
    },
    {
     "name": "stderr",
     "output_type": "stream",
     "text": [
      "\n",
      "100%|█████████████████████████████████████| 2292/2292 [00:00<00:00, 2672.84it/s]"
     ]
    },
    {
     "name": "stdout",
     "output_type": "stream",
     "text": [
      "Loading gt mask tubes...\n"
     ]
    },
    {
     "name": "stderr",
     "output_type": "stream",
     "text": [
      "\n",
      "100%|█████████████████████████████████████████| 399/399 [00:06<00:00, 62.25it/s]"
     ]
    },
    {
     "name": "stdout",
     "output_type": "stream",
     "text": [
      "Matching pred mask tubes with gt mask tubes...\n"
     ]
    },
    {
     "name": "stderr",
     "output_type": "stream",
     "text": [
      "\n",
      "100%|███████████████████████████████████████████| 99/99 [00:22<00:00,  4.47it/s]"
     ]
    },
    {
     "name": "stdout",
     "output_type": "stream",
     "text": [
      "Assigning labels to every qf tube pair...\n"
     ]
    },
    {
     "name": "stderr",
     "output_type": "stream",
     "text": [
      "\n",
      "100%|██████████████████████████████████████| 112/112 [00:00<00:00, 24091.60it/s]"
     ]
    },
    {
     "name": "stdout",
     "output_type": "stream",
     "text": [
      "Processing video 1025_6244382586\n",
      "Loading pred mask tubes...\n"
     ]
    },
    {
     "name": "stderr",
     "output_type": "stream",
     "text": [
      "\n",
      "100%|███████████████████████████████████████| 500/500 [00:00<00:00, 3106.14it/s]"
     ]
    },
    {
     "name": "stdout",
     "output_type": "stream",
     "text": [
      "Loading gt mask tubes...\n"
     ]
    },
    {
     "name": "stderr",
     "output_type": "stream",
     "text": [
      "\n",
      "100%|█████████████████████████████████████████| 103/103 [00:01<00:00, 93.22it/s]"
     ]
    },
    {
     "name": "stdout",
     "output_type": "stream",
     "text": [
      "Matching pred mask tubes with gt mask tubes...\n"
     ]
    },
    {
     "name": "stderr",
     "output_type": "stream",
     "text": [
      "\n",
      "100%|█████████████████████████████████████████████| 9/9 [00:02<00:00,  3.48it/s]"
     ]
    },
    {
     "name": "stdout",
     "output_type": "stream",
     "text": [
      "Assigning labels to every qf tube pair...\n"
     ]
    },
    {
     "name": "stderr",
     "output_type": "stream",
     "text": [
      "\n",
      "100%|████████████████████████████████████████| 12/12 [00:00<00:00, 19776.68it/s]\n"
     ]
    }
   ],
   "source": [
    "data = QueryFeaturePairDataset()"
   ]
  },
  {
   "cell_type": "code",
   "execution_count": 218,
   "id": "bd0af1f8",
   "metadata": {},
   "outputs": [
    {
     "data": {
      "text/plain": [
       "3758"
      ]
     },
     "execution_count": 218,
     "metadata": {},
     "output_type": "execute_result"
    }
   ],
   "source": [
    "len(data)"
   ]
  },
  {
   "cell_type": "code",
   "execution_count": 220,
   "id": "caa8b331",
   "metadata": {},
   "outputs": [
    {
     "data": {
      "text/plain": [
       "dict_keys(['data', 'label'])"
      ]
     },
     "execution_count": 220,
     "metadata": {},
     "output_type": "execute_result"
    }
   ],
   "source": [
    "data[0].keys()"
   ]
  },
  {
   "cell_type": "code",
   "execution_count": 225,
   "id": "086c9d67",
   "metadata": {},
   "outputs": [
    {
     "data": {
      "text/plain": [
       "{'data': [array([-1.35119677e+00, -7.66641349e-02,  3.63612384e-01, -4.74074274e-01,\n",
       "          8.78877878e-01,  4.82602507e-01,  1.42951167e+00, -1.09497976e+00,\n",
       "         -1.81490564e+00, -1.39861774e+00, -3.37105960e-01,  5.79884291e-01,\n",
       "          3.68436337e-01,  6.71831250e-01, -3.01698148e-01, -2.25422883e+00,\n",
       "         -1.16654110e+00, -7.18733072e-01,  7.62744844e-01, -9.02247488e-01,\n",
       "         -6.74047291e-01, -1.09617257e+00, -1.47436988e+00,  2.53762037e-01,\n",
       "          1.74886167e+00, -1.00636601e+00,  2.19042927e-01, -5.54755591e-02,\n",
       "         -8.58831048e-01, -8.99135232e-01, -5.69001377e-01,  7.47522771e-01,\n",
       "         -1.53397143e-01, -1.42662144e+00,  4.71043706e-01, -2.11648762e-01,\n",
       "         -2.24184275e-01,  6.79252148e-01,  8.20285201e-01, -9.35805321e-01,\n",
       "          5.99625781e-02, -1.15795076e+00, -1.16194993e-01,  7.23607242e-01,\n",
       "         -2.58702904e-01, -1.43395531e+00, -4.90796149e-01,  3.04228097e-01,\n",
       "          7.29733050e-01, -1.65820158e+00,  9.39160213e-02, -2.52273530e-01,\n",
       "         -6.40386462e-01, -1.08204281e+00,  1.78329319e-01, -4.28811908e-01,\n",
       "          2.06364918e+00,  7.92884469e-01, -8.50036025e-01,  1.40463996e+00,\n",
       "         -1.76968312e+00,  1.39517605e+00, -1.96467650e+00,  1.67047238e+00,\n",
       "         -9.57066596e-01,  4.12108868e-01,  1.13108061e-01, -9.13017616e-02,\n",
       "          6.49783194e-01, -7.51099706e-01, -1.16897810e+00,  9.37690139e-01,\n",
       "         -1.64664179e-01, -1.06072688e+00,  8.76091063e-01, -1.30803442e+00,\n",
       "          6.54015243e-01,  1.08098340e+00,  6.31244242e-01, -4.25674617e-01,\n",
       "         -3.03538978e-01, -9.89712238e-01, -4.49936688e-01, -7.19006658e-01,\n",
       "         -2.31370106e-01, -5.07183492e-01, -4.63418454e-01,  5.40197372e-01,\n",
       "         -7.90099680e-01,  6.50918037e-02, -7.03859627e-01, -2.20383143e+00,\n",
       "          7.05950320e-01, -1.22455634e-01,  9.02612448e-01, -6.76584065e-01,\n",
       "          4.60515410e-01,  1.51358032e+00, -2.18140692e-01,  1.14338362e+00,\n",
       "          7.40875840e-01,  1.05779684e+00, -1.98557794e+00,  4.40848097e-02,\n",
       "         -4.40009683e-01,  6.24101877e-01,  4.82014149e-01,  8.49729836e-01,\n",
       "          9.15966690e-01,  6.60107017e-01, -5.01560688e-01,  1.39943862e+00,\n",
       "         -6.23936355e-01,  3.50724846e-01,  1.29220796e+00,  4.16131049e-01,\n",
       "         -1.71704829e+00,  7.84924626e-01, -1.16526413e+00, -2.01417789e-01,\n",
       "         -1.10974245e-01, -1.22272623e+00,  9.55814481e-01,  5.53135514e-01,\n",
       "         -7.03416407e-01, -6.40486658e-01,  8.89286041e-01,  4.46438134e-01,\n",
       "          4.80325148e-02, -8.54381204e-01,  4.72194761e-01, -1.11257851e+00,\n",
       "          2.40056455e-01, -3.95172566e-01, -3.18253815e-01,  1.59102872e-01,\n",
       "          3.01904768e-01,  5.82967043e-01,  1.64749229e+00, -1.97190225e-01,\n",
       "          5.00495732e-01,  9.66425419e-01, -9.23521399e-01, -1.01244354e+00,\n",
       "          3.33808154e-01,  1.62711585e+00, -1.12896860e+00, -1.64477646e+00,\n",
       "          1.41759384e+00, -5.99068463e-01,  9.36378062e-01,  1.67911792e+00,\n",
       "         -7.89735079e-01,  6.24303997e-01,  1.41203368e+00,  4.14862394e-01,\n",
       "          5.88485479e-01,  1.18099093e+00, -5.26967645e-01,  2.03649729e-01,\n",
       "          2.25969982e+00, -3.81312557e-02,  7.38433301e-01,  3.76513332e-01,\n",
       "          8.57824534e-02,  3.42081428e-01,  8.17153275e-01,  1.68856585e+00,\n",
       "         -3.49591881e-01, -1.85356200e+00,  2.35493138e-01, -1.27226758e+00,\n",
       "         -1.99009374e-01, -1.80863008e-01,  2.56502485e+00, -4.81321424e-01,\n",
       "         -1.28577983e+00,  4.50613976e-01, -6.59737736e-02, -1.06298816e+00,\n",
       "          7.45010555e-01,  8.19061756e-01, -1.76639116e+00,  8.12723786e-02,\n",
       "          1.79225773e-01,  1.18286002e+00, -2.07990575e+00, -1.67068452e-01,\n",
       "         -9.57271382e-02,  1.08775747e+00, -1.10575569e+00, -1.91457379e+00,\n",
       "          1.46272457e+00, -4.24547881e-01,  1.44304943e+00, -2.26866588e-01,\n",
       "          8.56649399e-01,  2.54361725e+00, -9.77624357e-01,  6.12888336e-02,\n",
       "         -3.00165981e-01,  7.22768128e-01,  3.79117846e-01,  2.61773372e+00,\n",
       "         -2.63141543e-01, -3.49870294e-01,  6.70412540e-01, -3.71675134e-01,\n",
       "          1.10175240e+00,  1.25842464e+00,  1.79482743e-01, -5.57113826e-01,\n",
       "          1.64471900e+00,  2.02804819e-01,  2.01325035e+00, -6.88912749e-01,\n",
       "         -3.91306132e-01, -2.24188089e-01, -7.64610350e-01,  2.00741816e+00,\n",
       "          2.42473692e-01, -1.36477053e+00, -2.47675514e+00, -6.38593957e-02,\n",
       "         -2.03931761e+00, -9.89460647e-02, -1.25085479e-02, -6.40681803e-01,\n",
       "         -3.66864443e-01, -1.93042343e-03, -3.56108427e-01, -2.69558311e-01,\n",
       "          6.99119627e-01, -1.39011598e+00, -1.33690846e+00, -1.99428782e-01,\n",
       "          8.07933092e-01,  1.41005182e+00, -4.62358952e-01,  6.69035971e-01,\n",
       "         -6.73396230e-01, -8.05857003e-01,  1.28562644e-01,  2.43485379e+00,\n",
       "          9.47312951e-01,  1.16098583e+00, -7.03509927e-01,  1.03052616e+00,\n",
       "         -8.07006657e-01,  5.57632148e-02, -1.21280861e+00,  1.44369817e+00,\n",
       "          4.95261587e-02,  5.75252712e-01,  9.25297499e-01, -1.86705709e+00],\n",
       "        dtype=float32),\n",
       "  array([-1.6983901 , -0.5874815 , -0.30333805, -0.75241095,  0.4990557 ,\n",
       "         -0.03829091,  1.1145129 , -1.0577015 , -0.24933398, -0.14217724,\n",
       "          0.9807107 ,  0.9071687 ,  1.1639336 ,  1.2794836 , -0.96492434,\n",
       "         -1.4034853 , -0.43605858, -1.1361096 ,  1.4870191 , -0.813426  ,\n",
       "          0.33326223, -0.4971237 , -0.7360144 ,  0.68973625,  0.9578881 ,\n",
       "         -1.4351646 ,  1.0896486 , -0.01231003, -0.19574341, -0.8677407 ,\n",
       "          0.01528023,  1.2283282 , -0.5687907 , -2.0794256 ,  1.755804  ,\n",
       "         -0.663797  ,  0.77134115,  1.794128  ,  1.2454331 , -1.3076762 ,\n",
       "          0.45999753, -1.4363617 ,  0.53944874, -0.24644886, -0.2880093 ,\n",
       "         -1.7928853 ,  0.4752453 , -0.46399656, -0.2986121 , -1.492007  ,\n",
       "          0.24509361, -0.02961478,  0.9109961 , -1.1278819 ,  0.26699486,\n",
       "         -0.01992421,  1.2555697 ,  1.4849958 , -1.0376847 ,  0.98478276,\n",
       "         -0.95874697,  1.6695396 , -1.1469733 ,  1.0255121 , -1.0854607 ,\n",
       "          0.33919954, -1.0734595 , -0.03667798, -0.26499566, -1.0860689 ,\n",
       "         -0.9056382 , -0.24665393,  0.7701113 , -0.95937127,  0.95851886,\n",
       "         -1.4150362 ,  1.5761362 ,  1.6870456 , -0.71063435,  0.14997582,\n",
       "          0.01913489, -0.82593477,  0.33511248, -0.588596  , -0.22838186,\n",
       "         -1.3989193 , -0.551136  ,  0.53300387, -0.13725708, -0.64529055,\n",
       "         -0.58967066, -0.7175201 ,  0.4094048 ,  0.471589  ,  0.63532776,\n",
       "          0.16438158,  1.5579247 ,  1.0537825 ,  0.0127147 , -0.22277838,\n",
       "         -0.05949065,  0.9677815 , -1.3901927 ,  0.2465105 , -0.37937307,\n",
       "          0.39034167,  1.1067121 ,  0.6885712 ,  1.276397  , -0.67020714,\n",
       "         -0.31720892,  0.7344662 , -0.46885282,  0.40531212,  1.0203825 ,\n",
       "          1.5114626 , -1.9733586 ,  1.2409053 , -0.76946205, -0.5473333 ,\n",
       "         -0.19559073, -1.261262  ,  1.8031214 , -0.24033868, -1.2443179 ,\n",
       "         -0.41538823,  1.0596672 ,  0.64248085, -0.3574598 , -0.32806143,\n",
       "         -0.6066098 , -2.1929817 , -0.25855508, -1.3707588 ,  0.43020383,\n",
       "          0.2665745 ,  0.24578324,  0.04866578,  0.79359746,  0.8365042 ,\n",
       "          0.92955995,  0.13902643, -1.2012911 , -1.0160844 , -0.702141  ,\n",
       "          1.943592  , -0.9668298 , -1.0431993 ,  0.9808782 ,  0.4344172 ,\n",
       "          1.0048946 ,  0.5834059 , -0.01714807,  0.8470504 ,  0.64853424,\n",
       "          0.03195418, -0.05674472,  0.36900064, -0.12053572, -0.7852989 ,\n",
       "          0.9503953 ,  0.02293895, -0.47647592,  1.2549808 , -0.66465163,\n",
       "          0.9054711 ,  0.75084263,  2.4806988 , -0.7660178 , -1.9137574 ,\n",
       "          1.2179012 , -1.0847499 , -1.0873655 , -0.84982306,  2.6198406 ,\n",
       "          0.11097874, -1.0139165 ,  1.0252236 , -0.442222  , -0.86267245,\n",
       "          0.80026644, -0.47805983, -1.3205572 ,  0.03038992, -0.25129655,\n",
       "          0.76139456, -2.0403023 , -0.34072497,  0.604676  ,  0.60383964,\n",
       "         -1.6449095 , -1.589947  ,  1.1796075 , -0.58553964,  1.4129577 ,\n",
       "          0.66691005,  1.0931734 ,  2.5338445 , -0.5787051 ,  0.7579944 ,\n",
       "         -0.7440692 ,  0.27559823,  0.5464833 ,  0.75176316, -0.2851332 ,\n",
       "          0.92538697,  0.36121875, -0.728391  ,  1.8828043 ,  0.18846229,\n",
       "          0.7740517 , -0.76502097,  1.9744475 ,  0.47878695,  1.7311379 ,\n",
       "         -1.2953178 , -0.9658828 ,  0.0110741 , -0.59899586,  2.451471  ,\n",
       "          0.5071541 , -0.4927883 , -0.8888705 , -1.2757834 , -1.9223044 ,\n",
       "         -0.37097782, -2.0261784 , -1.6685623 , -0.9802022 ,  0.6305118 ,\n",
       "          1.0416534 ,  0.3998334 ,  1.2564967 , -1.0953095 , -0.72363836,\n",
       "          0.38738087,  0.32553875,  1.1816411 , -1.3352208 ,  0.6791214 ,\n",
       "         -0.38031855, -0.36704588,  0.65074784,  1.9080739 ,  0.5357533 ,\n",
       "         -0.05594802, -1.2645267 ,  0.03533586, -0.5941243 , -0.7525607 ,\n",
       "         -1.38255   ,  0.7244802 ,  0.03538293,  0.85026866,  0.61831665,\n",
       "         -2.1594577 ], dtype=float32)],\n",
       " 'label': ['running to']}"
      ]
     },
     "execution_count": 225,
     "metadata": {},
     "output_type": "execute_result"
    }
   ],
   "source": [
    "data[0]"
   ]
  },
  {
   "cell_type": "code",
   "execution_count": 223,
   "id": "9ba546e0",
   "metadata": {},
   "outputs": [
    {
     "data": {
      "text/plain": [
       "2"
      ]
     },
     "execution_count": 223,
     "metadata": {},
     "output_type": "execute_result"
    }
   ],
   "source": [
    "len(data[0]['data'])"
   ]
  },
  {
   "cell_type": "code",
   "execution_count": 224,
   "id": "5c3d08da",
   "metadata": {},
   "outputs": [
    {
     "data": {
      "text/plain": [
       "256"
      ]
     },
     "execution_count": 224,
     "metadata": {},
     "output_type": "execute_result"
    }
   ],
   "source": [
    "len(data[0]['data'][0])"
   ]
  },
  {
   "cell_type": "code",
   "execution_count": null,
   "id": "9882e65b",
   "metadata": {},
   "outputs": [],
   "source": []
  },
  {
   "cell_type": "code",
   "execution_count": null,
   "id": "a2aba106",
   "metadata": {},
   "outputs": [],
   "source": []
  },
  {
   "cell_type": "code",
   "execution_count": null,
   "id": "e905baba",
   "metadata": {},
   "outputs": [],
   "source": []
  },
  {
   "cell_type": "code",
   "execution_count": null,
   "id": "96d8499c",
   "metadata": {},
   "outputs": [],
   "source": []
  },
  {
   "cell_type": "code",
   "execution_count": 211,
   "id": "c1214b1c",
   "metadata": {},
   "outputs": [
    {
     "name": "stdout",
     "output_type": "stream",
     "text": [
      "Processing video 1100_9117425466\n",
      "Loading pred mask tubes...\n"
     ]
    },
    {
     "name": "stderr",
     "output_type": "stream",
     "text": [
      "100%|███████████████████████████████████████| 447/447 [00:00<00:00, 3281.06it/s]"
     ]
    },
    {
     "name": "stdout",
     "output_type": "stream",
     "text": [
      "Loading gt mask tubes...\n"
     ]
    },
    {
     "name": "stderr",
     "output_type": "stream",
     "text": [
      "\n",
      "100%|████████████████████████████████████████| 116/116 [00:00<00:00, 153.84it/s]"
     ]
    },
    {
     "name": "stdout",
     "output_type": "stream",
     "text": [
      "Matching pred mask tubes with gt mask tubes...\n"
     ]
    },
    {
     "name": "stderr",
     "output_type": "stream",
     "text": [
      "\n",
      "100%|███████████████████████████████████████████| 12/12 [00:01<00:00,  7.31it/s]"
     ]
    },
    {
     "name": "stdout",
     "output_type": "stream",
     "text": [
      "Assigning labels to every qf tube pair...\n"
     ]
    },
    {
     "name": "stderr",
     "output_type": "stream",
     "text": [
      "\n",
      "100%|████████████████████████████████████████| 18/18 [00:00<00:00, 17327.86it/s]"
     ]
    },
    {
     "name": "stdout",
     "output_type": "stream",
     "text": [
      "Processing video 0057_7001078933\n",
      "Loading pred mask tubes...\n"
     ]
    },
    {
     "name": "stderr",
     "output_type": "stream",
     "text": [
      "\n",
      "100%|███████████████████████████████████████| 401/401 [00:00<00:00, 3587.51it/s]"
     ]
    },
    {
     "name": "stdout",
     "output_type": "stream",
     "text": [
      "Loading gt mask tubes...\n"
     ]
    },
    {
     "name": "stderr",
     "output_type": "stream",
     "text": [
      "\n",
      "100%|████████████████████████████████████████| 106/106 [00:00<00:00, 119.56it/s]"
     ]
    },
    {
     "name": "stdout",
     "output_type": "stream",
     "text": [
      "Matching pred mask tubes with gt mask tubes...\n"
     ]
    },
    {
     "name": "stderr",
     "output_type": "stream",
     "text": [
      "\n",
      "100%|███████████████████████████████████████████| 17/17 [00:02<00:00,  7.36it/s]"
     ]
    },
    {
     "name": "stdout",
     "output_type": "stream",
     "text": [
      "Assigning labels to every qf tube pair...\n"
     ]
    },
    {
     "name": "stderr",
     "output_type": "stream",
     "text": [
      "\n",
      "100%|████████████████████████████████████████| 70/70 [00:00<00:00, 32399.17it/s]"
     ]
    },
    {
     "name": "stdout",
     "output_type": "stream",
     "text": [
      "Processing video 0028_4021064662\n",
      "Loading pred mask tubes...\n"
     ]
    },
    {
     "name": "stderr",
     "output_type": "stream",
     "text": [
      "\n",
      "100%|███████████████████████████████████████| 381/381 [00:00<00:00, 2745.68it/s]"
     ]
    },
    {
     "name": "stdout",
     "output_type": "stream",
     "text": [
      "Loading gt mask tubes...\n"
     ]
    },
    {
     "name": "stderr",
     "output_type": "stream",
     "text": [
      "\n",
      "100%|██████████████████████████████████████████| 95/95 [00:00<00:00, 123.60it/s]"
     ]
    },
    {
     "name": "stdout",
     "output_type": "stream",
     "text": [
      "Matching pred mask tubes with gt mask tubes...\n"
     ]
    },
    {
     "name": "stderr",
     "output_type": "stream",
     "text": [
      "\n",
      "100%|█████████████████████████████████████████████| 8/8 [00:01<00:00,  4.22it/s]"
     ]
    },
    {
     "name": "stdout",
     "output_type": "stream",
     "text": [
      "Assigning labels to every qf tube pair...\n"
     ]
    },
    {
     "name": "stderr",
     "output_type": "stream",
     "text": [
      "\n",
      "100%|█████████████████████████████████████████| 10/10 [00:00<00:00, 9706.79it/s]"
     ]
    },
    {
     "name": "stdout",
     "output_type": "stream",
     "text": [
      "Processing video 1007_6631583821\n",
      "Processing video 1006_4580824633\n",
      "Loading pred mask tubes...\n"
     ]
    },
    {
     "name": "stderr",
     "output_type": "stream",
     "text": [
      "\n",
      "100%|███████████████████████████████████████| 707/707 [00:00<00:00, 2785.50it/s]"
     ]
    },
    {
     "name": "stdout",
     "output_type": "stream",
     "text": [
      "Loading gt mask tubes...\n"
     ]
    },
    {
     "name": "stderr",
     "output_type": "stream",
     "text": [
      "\n",
      "100%|█████████████████████████████████████████| 203/203 [00:02<00:00, 93.90it/s]"
     ]
    },
    {
     "name": "stdout",
     "output_type": "stream",
     "text": [
      "Matching pred mask tubes with gt mask tubes...\n"
     ]
    },
    {
     "name": "stderr",
     "output_type": "stream",
     "text": [
      "\n",
      "100%|███████████████████████████████████████████| 14/14 [00:02<00:00,  5.06it/s]"
     ]
    },
    {
     "name": "stdout",
     "output_type": "stream",
     "text": [
      "Assigning labels to every qf tube pair...\n"
     ]
    },
    {
     "name": "stderr",
     "output_type": "stream",
     "text": [
      "\n",
      "100%|████████████████████████████████████████| 26/26 [00:00<00:00, 12552.01it/s]"
     ]
    },
    {
     "name": "stdout",
     "output_type": "stream",
     "text": [
      "Processing video 0010_8610561401\n",
      "Loading pred mask tubes...\n"
     ]
    },
    {
     "name": "stderr",
     "output_type": "stream",
     "text": [
      "\n",
      "100%|███████████████████████████████████████| 725/725 [00:00<00:00, 3343.11it/s]"
     ]
    },
    {
     "name": "stdout",
     "output_type": "stream",
     "text": [
      "Loading gt mask tubes...\n"
     ]
    },
    {
     "name": "stderr",
     "output_type": "stream",
     "text": [
      "\n",
      "100%|████████████████████████████████████████| 180/180 [00:01<00:00, 124.44it/s]"
     ]
    },
    {
     "name": "stdout",
     "output_type": "stream",
     "text": [
      "Matching pred mask tubes with gt mask tubes...\n"
     ]
    },
    {
     "name": "stderr",
     "output_type": "stream",
     "text": [
      "\n",
      "100%|█████████████████████████████████████████████| 6/6 [00:02<00:00,  2.59it/s]"
     ]
    },
    {
     "name": "stdout",
     "output_type": "stream",
     "text": [
      "Assigning labels to every qf tube pair...\n"
     ]
    },
    {
     "name": "stderr",
     "output_type": "stream",
     "text": [
      "\n",
      "100%|████████████████████████████████████████| 12/12 [00:00<00:00, 13548.22it/s]"
     ]
    },
    {
     "name": "stdout",
     "output_type": "stream",
     "text": [
      "Processing video 1012_4024008346\n",
      "Loading pred mask tubes...\n"
     ]
    },
    {
     "name": "stderr",
     "output_type": "stream",
     "text": [
      "\n",
      "100%|███████████████████████████████████████| 444/444 [00:00<00:00, 3619.44it/s]"
     ]
    },
    {
     "name": "stdout",
     "output_type": "stream",
     "text": [
      "Loading gt mask tubes...\n"
     ]
    },
    {
     "name": "stderr",
     "output_type": "stream",
     "text": [
      "\n",
      "100%|██████████████████████████████████████████| 98/98 [00:00<00:00, 140.46it/s]"
     ]
    },
    {
     "name": "stdout",
     "output_type": "stream",
     "text": [
      "Matching pred mask tubes with gt mask tubes...\n"
     ]
    },
    {
     "name": "stderr",
     "output_type": "stream",
     "text": [
      "\n",
      "100%|█████████████████████████████████████████████| 9/9 [00:01<00:00,  5.49it/s]\n"
     ]
    },
    {
     "name": "stdout",
     "output_type": "stream",
     "text": [
      "Assigning labels to every qf tube pair...\n"
     ]
    },
    {
     "name": "stderr",
     "output_type": "stream",
     "text": [
      "100%|████████████████████████████████████████| 28/28 [00:00<00:00, 23255.55it/s]"
     ]
    },
    {
     "name": "stdout",
     "output_type": "stream",
     "text": [
      "Processing video 1000_6828150903\n",
      "Loading pred mask tubes...\n"
     ]
    },
    {
     "name": "stderr",
     "output_type": "stream",
     "text": [
      "\n",
      "100%|█████████████████████████████████████| 1199/1199 [00:00<00:00, 3566.65it/s]"
     ]
    },
    {
     "name": "stdout",
     "output_type": "stream",
     "text": [
      "Loading gt mask tubes...\n"
     ]
    },
    {
     "name": "stderr",
     "output_type": "stream",
     "text": [
      "\n",
      "100%|████████████████████████████████████████| 340/340 [00:03<00:00, 106.51it/s]"
     ]
    },
    {
     "name": "stdout",
     "output_type": "stream",
     "text": [
      "Matching pred mask tubes with gt mask tubes...\n"
     ]
    },
    {
     "name": "stderr",
     "output_type": "stream",
     "text": [
      "\n",
      "100%|███████████████████████████████████████████| 13/13 [00:04<00:00,  2.69it/s]"
     ]
    },
    {
     "name": "stdout",
     "output_type": "stream",
     "text": [
      "Assigning labels to every qf tube pair...\n"
     ]
    },
    {
     "name": "stderr",
     "output_type": "stream",
     "text": [
      "\n",
      "100%|████████████████████████████████████████| 36/36 [00:00<00:00, 19405.60it/s]"
     ]
    },
    {
     "name": "stdout",
     "output_type": "stream",
     "text": [
      "Processing video 1124_9861436503\n",
      "Loading pred mask tubes...\n"
     ]
    },
    {
     "name": "stderr",
     "output_type": "stream",
     "text": [
      "\n",
      "100%|█████████████████████████████████████| 1878/1878 [00:00<00:00, 3618.73it/s]"
     ]
    },
    {
     "name": "stdout",
     "output_type": "stream",
     "text": [
      "Loading gt mask tubes...\n"
     ]
    },
    {
     "name": "stderr",
     "output_type": "stream",
     "text": [
      "\n",
      "100%|█████████████████████████████████████████| 323/323 [00:03<00:00, 92.59it/s]"
     ]
    },
    {
     "name": "stdout",
     "output_type": "stream",
     "text": [
      "Matching pred mask tubes with gt mask tubes...\n"
     ]
    },
    {
     "name": "stderr",
     "output_type": "stream",
     "text": [
      "\n",
      "100%|███████████████████████████████████████████| 14/14 [00:11<00:00,  1.22it/s]"
     ]
    },
    {
     "name": "stdout",
     "output_type": "stream",
     "text": [
      "Assigning labels to every qf tube pair...\n"
     ]
    },
    {
     "name": "stderr",
     "output_type": "stream",
     "text": [
      "\n",
      "100%|████████████████████████████████████████| 30/30 [00:00<00:00, 16043.49it/s]"
     ]
    },
    {
     "name": "stdout",
     "output_type": "stream",
     "text": [
      "Processing video 1015_4698622422\n",
      "Loading pred mask tubes...\n"
     ]
    },
    {
     "name": "stderr",
     "output_type": "stream",
     "text": [
      "\n",
      "100%|███████████████████████████████████████| 829/829 [00:00<00:00, 2613.77it/s]"
     ]
    },
    {
     "name": "stdout",
     "output_type": "stream",
     "text": [
      "Loading gt mask tubes...\n"
     ]
    },
    {
     "name": "stderr",
     "output_type": "stream",
     "text": [
      "\n",
      "100%|█████████████████████████████████████████| 209/209 [00:02<00:00, 92.27it/s]"
     ]
    },
    {
     "name": "stdout",
     "output_type": "stream",
     "text": [
      "Matching pred mask tubes with gt mask tubes...\n"
     ]
    },
    {
     "name": "stderr",
     "output_type": "stream",
     "text": [
      "\n",
      "100%|███████████████████████████████████████████| 47/47 [00:04<00:00,  9.60it/s]"
     ]
    },
    {
     "name": "stdout",
     "output_type": "stream",
     "text": [
      "Assigning labels to every qf tube pair...\n"
     ]
    },
    {
     "name": "stderr",
     "output_type": "stream",
     "text": [
      "\n",
      "100%|████████████████████████████████████████| 68/68 [00:00<00:00, 16713.31it/s]"
     ]
    },
    {
     "name": "stdout",
     "output_type": "stream",
     "text": [
      "Processing video 0046_11919433184\n",
      "Processing video 1001_7007447516\n",
      "Loading pred mask tubes...\n"
     ]
    },
    {
     "name": "stderr",
     "output_type": "stream",
     "text": [
      "\n",
      "100%|█████████████████████████████████████| 2504/2504 [00:00<00:00, 2623.69it/s]"
     ]
    },
    {
     "name": "stdout",
     "output_type": "stream",
     "text": [
      "Loading gt mask tubes...\n"
     ]
    },
    {
     "name": "stderr",
     "output_type": "stream",
     "text": [
      "\n",
      "100%|█████████████████████████████████████████| 418/418 [00:06<00:00, 63.37it/s]\n"
     ]
    },
    {
     "name": "stdout",
     "output_type": "stream",
     "text": [
      "Matching pred mask tubes with gt mask tubes...\n"
     ]
    },
    {
     "name": "stderr",
     "output_type": "stream",
     "text": [
      "100%|███████████████████████████████████████████| 48/48 [00:24<00:00,  1.96it/s]\n"
     ]
    },
    {
     "name": "stdout",
     "output_type": "stream",
     "text": [
      "Assigning labels to every qf tube pair...\n"
     ]
    },
    {
     "name": "stderr",
     "output_type": "stream",
     "text": [
      "100%|████████████████████████████████████████| 86/86 [00:00<00:00, 11189.32it/s]"
     ]
    },
    {
     "name": "stdout",
     "output_type": "stream",
     "text": [
      "Processing video 1002_5280626374\n",
      "Loading pred mask tubes...\n"
     ]
    },
    {
     "name": "stderr",
     "output_type": "stream",
     "text": [
      "\n",
      "100%|███████████████████████████████████████| 909/909 [00:00<00:00, 2266.48it/s]"
     ]
    },
    {
     "name": "stdout",
     "output_type": "stream",
     "text": [
      "Loading gt mask tubes...\n"
     ]
    },
    {
     "name": "stderr",
     "output_type": "stream",
     "text": [
      "\n",
      "100%|█████████████████████████████████████████| 176/176 [00:02<00:00, 63.47it/s]"
     ]
    },
    {
     "name": "stdout",
     "output_type": "stream",
     "text": [
      "Matching pred mask tubes with gt mask tubes...\n"
     ]
    },
    {
     "name": "stderr",
     "output_type": "stream",
     "text": [
      "\n",
      "100%|███████████████████████████████████████████| 16/16 [00:05<00:00,  3.00it/s]"
     ]
    },
    {
     "name": "stdout",
     "output_type": "stream",
     "text": [
      "Assigning labels to every qf tube pair...\n"
     ]
    },
    {
     "name": "stderr",
     "output_type": "stream",
     "text": [
      "\n",
      "100%|████████████████████████████████████████| 20/20 [00:00<00:00, 25412.32it/s]"
     ]
    },
    {
     "name": "stdout",
     "output_type": "stream",
     "text": [
      "Processing video 1021_4278168115\n",
      "Loading pred mask tubes...\n"
     ]
    },
    {
     "name": "stderr",
     "output_type": "stream",
     "text": [
      "\n",
      "100%|█████████████████████████████████████| 2292/2292 [00:00<00:00, 2632.16it/s]"
     ]
    },
    {
     "name": "stdout",
     "output_type": "stream",
     "text": [
      "Loading gt mask tubes...\n"
     ]
    },
    {
     "name": "stderr",
     "output_type": "stream",
     "text": [
      "\n",
      "100%|█████████████████████████████████████████| 399/399 [00:06<00:00, 60.19it/s]"
     ]
    },
    {
     "name": "stdout",
     "output_type": "stream",
     "text": [
      "Matching pred mask tubes with gt mask tubes...\n"
     ]
    },
    {
     "name": "stderr",
     "output_type": "stream",
     "text": [
      "\n",
      "100%|███████████████████████████████████████████| 99/99 [00:21<00:00,  4.67it/s]\n"
     ]
    },
    {
     "name": "stdout",
     "output_type": "stream",
     "text": [
      "Assigning labels to every qf tube pair...\n"
     ]
    },
    {
     "name": "stderr",
     "output_type": "stream",
     "text": [
      "100%|██████████████████████████████████████| 112/112 [00:00<00:00, 23893.09it/s]"
     ]
    },
    {
     "name": "stdout",
     "output_type": "stream",
     "text": [
      "Processing video 1025_6244382586\n",
      "Loading pred mask tubes...\n"
     ]
    },
    {
     "name": "stderr",
     "output_type": "stream",
     "text": [
      "\n",
      "100%|████████████████████████████████████████| 500/500 [00:00<00:00, 906.51it/s]"
     ]
    },
    {
     "name": "stdout",
     "output_type": "stream",
     "text": [
      "Loading gt mask tubes...\n"
     ]
    },
    {
     "name": "stderr",
     "output_type": "stream",
     "text": [
      "\n",
      "100%|█████████████████████████████████████████| 103/103 [00:01<00:00, 99.06it/s]"
     ]
    },
    {
     "name": "stdout",
     "output_type": "stream",
     "text": [
      "Matching pred mask tubes with gt mask tubes...\n"
     ]
    },
    {
     "name": "stderr",
     "output_type": "stream",
     "text": [
      "\n",
      "100%|█████████████████████████████████████████████| 9/9 [00:02<00:00,  3.55it/s]"
     ]
    },
    {
     "name": "stdout",
     "output_type": "stream",
     "text": [
      "Assigning labels to every qf tube pair...\n"
     ]
    },
    {
     "name": "stderr",
     "output_type": "stream",
     "text": [
      "\n",
      "100%|████████████████████████████████████████| 12/12 [00:00<00:00, 19691.57it/s]\n"
     ]
    }
   ],
   "source": [
    "data1 = QueryFeaturePairDataset(mode=\"whole\")"
   ]
  },
  {
   "cell_type": "code",
   "execution_count": 219,
   "id": "e3f74786",
   "metadata": {},
   "outputs": [
    {
     "data": {
      "text/plain": [
       "43"
      ]
     },
     "execution_count": 219,
     "metadata": {},
     "output_type": "execute_result"
    }
   ],
   "source": [
    "len(data1)"
   ]
  },
  {
   "cell_type": "code",
   "execution_count": 228,
   "id": "720a9678",
   "metadata": {},
   "outputs": [
    {
     "data": {
      "text/plain": [
       "[[],\n",
       " [],\n",
       " [],\n",
       " [],\n",
       " [],\n",
       " [],\n",
       " [],\n",
       " [],\n",
       " [],\n",
       " [],\n",
       " [],\n",
       " [],\n",
       " [],\n",
       " [],\n",
       " [],\n",
       " [],\n",
       " [],\n",
       " [],\n",
       " [],\n",
       " [],\n",
       " [],\n",
       " [],\n",
       " [],\n",
       " [],\n",
       " [],\n",
       " [],\n",
       " [],\n",
       " [],\n",
       " [],\n",
       " [],\n",
       " [],\n",
       " [],\n",
       " [],\n",
       " [],\n",
       " [],\n",
       " [],\n",
       " [],\n",
       " [],\n",
       " [],\n",
       " [],\n",
       " [],\n",
       " [],\n",
       " [],\n",
       " [],\n",
       " [],\n",
       " [],\n",
       " [],\n",
       " [],\n",
       " [],\n",
       " [],\n",
       " [],\n",
       " [],\n",
       " [],\n",
       " [],\n",
       " [],\n",
       " [],\n",
       " [],\n",
       " [],\n",
       " [],\n",
       " [],\n",
       " [],\n",
       " [],\n",
       " [],\n",
       " [],\n",
       " [],\n",
       " [],\n",
       " [],\n",
       " [],\n",
       " [],\n",
       " [],\n",
       " [],\n",
       " [],\n",
       " [],\n",
       " [],\n",
       " [],\n",
       " [],\n",
       " [],\n",
       " [],\n",
       " [],\n",
       " [],\n",
       " [],\n",
       " [],\n",
       " [],\n",
       " [],\n",
       " [],\n",
       " [],\n",
       " [],\n",
       " [],\n",
       " [],\n",
       " [],\n",
       " [],\n",
       " [],\n",
       " [],\n",
       " [],\n",
       " [],\n",
       " [],\n",
       " [],\n",
       " [],\n",
       " [],\n",
       " ['running to'],\n",
       " ['running to'],\n",
       " ['running to'],\n",
       " ['running to'],\n",
       " ['running to'],\n",
       " ['running to'],\n",
       " ['running to'],\n",
       " [],\n",
       " [],\n",
       " [],\n",
       " [],\n",
       " [],\n",
       " [],\n",
       " [],\n",
       " [],\n",
       " [],\n",
       " []]"
      ]
     },
     "execution_count": 228,
     "metadata": {},
     "output_type": "execute_result"
    }
   ],
   "source": [
    "data1[0]['label']"
   ]
  },
  {
   "cell_type": "code",
   "execution_count": null,
   "id": "13ecda1d",
   "metadata": {},
   "outputs": [],
   "source": []
  },
  {
   "cell_type": "code",
   "execution_count": null,
   "id": "d025c085",
   "metadata": {},
   "outputs": [],
   "source": []
  },
  {
   "cell_type": "markdown",
   "id": "101f8fa0",
   "metadata": {},
   "source": [
    "### One-hot encoding relation labels"
   ]
  },
  {
   "cell_type": "code",
   "execution_count": 248,
   "id": "eb447f04",
   "metadata": {},
   "outputs": [],
   "source": [
    "import pandas as pd"
   ]
  },
  {
   "cell_type": "code",
   "execution_count": 231,
   "id": "b0f40c0e",
   "metadata": {},
   "outputs": [],
   "source": [
    "gt_anno = load_json(\"/mnt/lustre/jkyang/wxpeng/CVPR23/pvsg_data/pvsg_demo.json\")\n",
    "predicates = []\n",
    "for anno in gt_anno:\n",
    "    relations = anno['relations']\n",
    "    if relations is None:\n",
    "        continue\n",
    "    for relation in relations:\n",
    "        predicates.append(relation[2])\n",
    "PREDICATES = sorted(list(set(predicates))) # sort by first letter"
   ]
  },
  {
   "cell_type": "code",
   "execution_count": 247,
   "id": "6b1a8011",
   "metadata": {},
   "outputs": [
    {
     "data": {
      "text/plain": [
       "['behind',\n",
       " 'caressing',\n",
       " 'catching',\n",
       " 'chasing',\n",
       " 'falling on',\n",
       " 'grabbing',\n",
       " 'hitting',\n",
       " 'holding',\n",
       " 'in front of',\n",
       " 'jumping to',\n",
       " 'kicking',\n",
       " 'kissing',\n",
       " 'looking at',\n",
       " 'next to',\n",
       " 'on',\n",
       " 'passing over',\n",
       " 'picking',\n",
       " 'playing with',\n",
       " 'pulling',\n",
       " 'pushing',\n",
       " 'putting down',\n",
       " 'riding',\n",
       " 'riding on',\n",
       " 'runinng to',\n",
       " 'running on',\n",
       " 'running to',\n",
       " 'sitting on',\n",
       " 'stading on',\n",
       " 'standing on',\n",
       " 'standng on',\n",
       " 'thowing',\n",
       " 'throwing',\n",
       " 'touching',\n",
       " 'walking',\n",
       " 'walking on']"
      ]
     },
     "execution_count": 247,
     "metadata": {},
     "output_type": "execute_result"
    }
   ],
   "source": [
    "PREDICATES "
   ]
  },
  {
   "cell_type": "code",
   "execution_count": 249,
   "id": "97e0e09d",
   "metadata": {},
   "outputs": [],
   "source": [
    "predicates_df = pd.DataFrame(PREDICATES)"
   ]
  },
  {
   "cell_type": "code",
   "execution_count": 244,
   "id": "5fbf5804",
   "metadata": {},
   "outputs": [
    {
     "data": {
      "text/plain": [
       "35"
      ]
     },
     "execution_count": 244,
     "metadata": {},
     "output_type": "execute_result"
    }
   ],
   "source": [
    "def encode_predicate_label(predicate_list):\n",
    "    for "
   ]
  },
  {
   "cell_type": "code",
   "execution_count": null,
   "id": "a19b1c77",
   "metadata": {},
   "outputs": [],
   "source": [
    "l = "
   ]
  }
 ],
 "metadata": {
  "kernelspec": {
   "display_name": "Python 3.8.13 64-bit ('pvsg_baseline': conda)",
   "language": "python",
   "name": "python3813jvsc74a57bd0025d93dd3989803419615912367d9a59dccdc0a9e3aee2cd696f3a5686955991"
  },
  "language_info": {
   "codemirror_mode": {
    "name": "ipython",
    "version": 3
   },
   "file_extension": ".py",
   "mimetype": "text/x-python",
   "name": "python",
   "nbconvert_exporter": "python",
   "pygments_lexer": "ipython3",
   "version": "3.8.13"
  }
 },
 "nbformat": 4,
 "nbformat_minor": 5
}
